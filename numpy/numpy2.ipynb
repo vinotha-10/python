{
 "cells": [
  {
   "cell_type": "code",
   "execution_count": null,
   "id": "5cc58ca1-00a3-4661-a3e7-46c3ba51ee51",
   "metadata": {},
   "outputs": [],
   "source": [
    " #operations in numpy"
   ]
  },
  {
   "cell_type": "code",
   "execution_count": 1,
   "id": "af47810f-e3d8-488b-bf1d-b4e894aa80ce",
   "metadata": {},
   "outputs": [],
   "source": [
    "import numpy as np"
   ]
  },
  {
   "cell_type": "code",
   "execution_count": 8,
   "id": "e993744a-256b-4963-b8f1-935801077427",
   "metadata": {},
   "outputs": [],
   "source": [
    "# matrix multiplication:( dot product)  \n",
    "a=np.array([[2,4],[1,3]])"
   ]
  },
  {
   "cell_type": "code",
   "execution_count": 9,
   "id": "0c66830b-468c-48ed-b179-ea2d4a9a1f9e",
   "metadata": {},
   "outputs": [
    {
     "data": {
      "text/plain": [
       "array([[2, 4],\n",
       "       [1, 3]])"
      ]
     },
     "execution_count": 9,
     "metadata": {},
     "output_type": "execute_result"
    }
   ],
   "source": [
    "a"
   ]
  },
  {
   "cell_type": "code",
   "execution_count": 11,
   "id": "bd3486e2-ff69-4ed0-a4e6-e2db1361e5bb",
   "metadata": {},
   "outputs": [],
   "source": [
    "b=np.array([[5,6],[8,9]])"
   ]
  },
  {
   "cell_type": "code",
   "execution_count": 12,
   "id": "f767b864-5e32-4532-9ada-e0c75c05da09",
   "metadata": {},
   "outputs": [
    {
     "data": {
      "text/plain": [
       "array([[5, 6],\n",
       "       [8, 9]])"
      ]
     },
     "execution_count": 12,
     "metadata": {},
     "output_type": "execute_result"
    }
   ],
   "source": [
    "b"
   ]
  },
  {
   "cell_type": "code",
   "execution_count": 14,
   "id": "0e2faf04-9cd8-4d05-9d07-4c45e2045f34",
   "metadata": {},
   "outputs": [
    {
     "data": {
      "text/plain": [
       "array([[42, 48],\n",
       "       [29, 33]])"
      ]
     },
     "execution_count": 14,
     "metadata": {},
     "output_type": "execute_result"
    }
   ],
   "source": [
    "#multiplication syntax\n",
    "np.dot(a,b)"
   ]
  },
  {
   "cell_type": "code",
   "execution_count": 15,
   "id": "ac1b4bc7-5e35-4364-8586-70e1c70b11ac",
   "metadata": {},
   "outputs": [
    {
     "data": {
      "text/plain": [
       "array([[ 7, 10],\n",
       "       [ 9, 12]])"
      ]
     },
     "execution_count": 15,
     "metadata": {},
     "output_type": "execute_result"
    }
   ],
   "source": [
    "a+b"
   ]
  },
  {
   "cell_type": "code",
   "execution_count": 16,
   "id": "2df619d3-13ba-4306-b31e-03118dd1cc76",
   "metadata": {},
   "outputs": [
    {
     "data": {
      "text/plain": [
       "array([[-3, -2],\n",
       "       [-7, -6]])"
      ]
     },
     "execution_count": 16,
     "metadata": {},
     "output_type": "execute_result"
    }
   ],
   "source": [
    "a-b"
   ]
  },
  {
   "cell_type": "code",
   "execution_count": 18,
   "id": "49744861-e29f-47f6-927c-5a929d199fa3",
   "metadata": {},
   "outputs": [],
   "source": [
    "c=np.array([12,13])"
   ]
  },
  {
   "cell_type": "code",
   "execution_count": 19,
   "id": "c747f86f-b87b-422e-a983-a06f708e3ec3",
   "metadata": {},
   "outputs": [],
   "source": [
    "d=np.array([21,22])"
   ]
  },
  {
   "cell_type": "code",
   "execution_count": 20,
   "id": "1d485fea-fd43-4d23-af53-04869656a590",
   "metadata": {},
   "outputs": [
    {
     "data": {
      "text/plain": [
       "array([33, 35])"
      ]
     },
     "execution_count": 20,
     "metadata": {},
     "output_type": "execute_result"
    }
   ],
   "source": [
    "c+d"
   ]
  },
  {
   "cell_type": "code",
   "execution_count": 21,
   "id": "8ef8aebc-883f-4438-8b17-fc566768dc29",
   "metadata": {},
   "outputs": [
    {
     "data": {
      "text/plain": [
       "array([252, 286])"
      ]
     },
     "execution_count": 21,
     "metadata": {},
     "output_type": "execute_result"
    }
   ],
   "source": [
    "c*d"
   ]
  },
  {
   "cell_type": "code",
   "execution_count": 22,
   "id": "14292c99-6e3d-47fb-8ce7-d7565d8d5ef0",
   "metadata": {},
   "outputs": [
    {
     "data": {
      "text/plain": [
       "array([[10, 24],\n",
       "       [ 8, 27]])"
      ]
     },
     "execution_count": 22,
     "metadata": {},
     "output_type": "execute_result"
    }
   ],
   "source": [
    "a*b"
   ]
  },
  {
   "cell_type": "code",
   "execution_count": 27,
   "id": "5250ee3e-f367-483a-8c08-665fa487d9bb",
   "metadata": {},
   "outputs": [],
   "source": [
    "# incresing the protcast value for interview question\n",
    "e=np.array([10,15])"
   ]
  },
  {
   "cell_type": "code",
   "execution_count": 26,
   "id": "9adbf8a7-b24a-4f21-9098-1b93be9d73a0",
   "metadata": {},
   "outputs": [
    {
     "data": {
      "text/plain": [
       "array([12, 13])"
      ]
     },
     "execution_count": 26,
     "metadata": {},
     "output_type": "execute_result"
    }
   ],
   "source": [
    "c"
   ]
  },
  {
   "cell_type": "code",
   "execution_count": 28,
   "id": "2e8bde3f-fb2a-4364-a517-2bb667e0f300",
   "metadata": {},
   "outputs": [
    {
     "data": {
      "text/plain": [
       "array([22, 28])"
      ]
     },
     "execution_count": 28,
     "metadata": {},
     "output_type": "execute_result"
    }
   ],
   "source": [
    "c+e"
   ]
  },
  {
   "cell_type": "code",
   "execution_count": 29,
   "id": "08bc81c8-98fe-4c64-b202-f84c4a2430fa",
   "metadata": {},
   "outputs": [
    {
     "ename": "SyntaxError",
     "evalue": "invalid syntax (3049862118.py, line 2)",
     "output_type": "error",
     "traceback": [
      "\u001b[1;36m  Cell \u001b[1;32mIn[29], line 2\u001b[1;36m\u001b[0m\n\u001b[1;33m    scalar= operation performed\u001b[0m\n\u001b[1;37m                      ^\u001b[0m\n\u001b[1;31mSyntaxError\u001b[0m\u001b[1;31m:\u001b[0m invalid syntax\n"
     ]
    }
   ],
   "source": [
    "#diff btw scaler and vector\n",
    "#scalar= operation performed by using integers\n",
    "#vectors= operation performed by using arrays"
   ]
  },
  {
   "cell_type": "code",
   "execution_count": 30,
   "id": "5e567c29-c6b2-4088-bb11-c3cb2e1306ac",
   "metadata": {},
   "outputs": [
    {
     "data": {
      "text/plain": [
       "array([17, 18])"
      ]
     },
     "execution_count": 30,
     "metadata": {},
     "output_type": "execute_result"
    }
   ],
   "source": [
    "c+5"
   ]
  },
  {
   "cell_type": "code",
   "execution_count": 31,
   "id": "ba52b439-e592-4a42-973d-5c136ca039ff",
   "metadata": {},
   "outputs": [],
   "source": [
    "# stacking and splitting\n",
    "# syntax:\n",
    "     #np.vstack((a,b))\n",
    "     #np.hstack((a,b))\n",
    "arr1=np.array([1,2,3,4])\n",
    "arr2=np.array([5,6,7,8])"
   ]
  },
  {
   "cell_type": "code",
   "execution_count": 32,
   "id": "d8623786-d549-4c57-a394-10d0a816ca51",
   "metadata": {},
   "outputs": [
    {
     "data": {
      "text/plain": [
       "array([[1, 2, 3, 4],\n",
       "       [5, 6, 7, 8]])"
      ]
     },
     "execution_count": 32,
     "metadata": {},
     "output_type": "execute_result"
    }
   ],
   "source": [
    "np.vstack((arr1,arr2))"
   ]
  },
  {
   "cell_type": "code",
   "execution_count": 33,
   "id": "e64455d9-4246-4de2-8150-7cdfd2b1078d",
   "metadata": {},
   "outputs": [
    {
     "data": {
      "text/plain": [
       "array([1, 2, 3, 4, 5, 6, 7, 8])"
      ]
     },
     "execution_count": 33,
     "metadata": {},
     "output_type": "execute_result"
    }
   ],
   "source": [
    "np.hstack((arr1,arr2))"
   ]
  },
  {
   "cell_type": "code",
   "execution_count": 34,
   "id": "5e7d3feb-ab35-40f0-8f97-1edec809fcd4",
   "metadata": {},
   "outputs": [],
   "source": [
    "# Numpy array functions\n",
    "arr3=np.array([1,2,3,4,5,6,7,8,9])"
   ]
  },
  {
   "cell_type": "code",
   "execution_count": 35,
   "id": "34ecc83b-60cf-448f-ac90-8155549120c2",
   "metadata": {},
   "outputs": [
    {
     "data": {
      "text/plain": [
       "[array([1, 2, 3, 4]), array([5, 6, 7]), array([8, 9, 0])]"
      ]
     },
     "execution_count": 35,
     "metadata": {},
     "output_type": "execute_result"
    }
   ],
   "source": [
    "np.array_split(arr3,3)"
   ]
  },
  {
   "cell_type": "code",
   "execution_count": 36,
   "id": "4b62cf85-74c5-4252-ac8b-417737117992",
   "metadata": {},
   "outputs": [
    {
     "data": {
      "text/plain": [
       "10"
      ]
     },
     "execution_count": 36,
     "metadata": {},
     "output_type": "execute_result"
    }
   ],
   "source": [
    "arr3.size"
   ]
  },
  {
   "cell_type": "code",
   "execution_count": 37,
   "id": "70302fe1-6eaf-4f4d-afdc-d898cbf26b9a",
   "metadata": {},
   "outputs": [
    {
     "data": {
      "text/plain": [
       "dtype('int32')"
      ]
     },
     "execution_count": 37,
     "metadata": {},
     "output_type": "execute_result"
    }
   ],
   "source": [
    "arr3.dtype"
   ]
  },
  {
   "cell_type": "code",
   "execution_count": 38,
   "id": "8a8ec1c5-0eef-403e-b96f-99e2854798dd",
   "metadata": {},
   "outputs": [
    {
     "name": "stderr",
     "output_type": "stream",
     "text": [
      "C:\\Users\\Surya\\AppData\\Local\\Temp\\ipykernel_12440\\2430430252.py:1: RuntimeWarning: divide by zero encountered in log\n",
      "  np.log(arr3)\n"
     ]
    },
    {
     "data": {
      "text/plain": [
       "array([0.        , 0.69314718, 1.09861229, 1.38629436, 1.60943791,\n",
       "       1.79175947, 1.94591015, 2.07944154, 2.19722458,       -inf])"
      ]
     },
     "execution_count": 38,
     "metadata": {},
     "output_type": "execute_result"
    }
   ],
   "source": [
    "np.log(arr3)"
   ]
  },
  {
   "cell_type": "code",
   "execution_count": 39,
   "id": "3d393b0b-8def-41d8-8bd0-9c959aefb79a",
   "metadata": {},
   "outputs": [
    {
     "data": {
      "text/plain": [
       "array([2.71828183e+00, 7.38905610e+00, 2.00855369e+01, 5.45981500e+01,\n",
       "       1.48413159e+02, 4.03428793e+02, 1.09663316e+03, 2.98095799e+03,\n",
       "       8.10308393e+03, 1.00000000e+00])"
      ]
     },
     "execution_count": 39,
     "metadata": {},
     "output_type": "execute_result"
    }
   ],
   "source": [
    "np.exp(arr3)"
   ]
  },
  {
   "cell_type": "code",
   "execution_count": 40,
   "id": "680cdf39-bdec-4d53-a788-924df0d6d94f",
   "metadata": {},
   "outputs": [
    {
     "data": {
      "text/plain": [
       "4.5"
      ]
     },
     "execution_count": 40,
     "metadata": {},
     "output_type": "execute_result"
    }
   ],
   "source": [
    "np.mean(arr3)"
   ]
  },
  {
   "cell_type": "code",
   "execution_count": 41,
   "id": "77db8350-3be8-4f06-a119-a90cabdb2248",
   "metadata": {},
   "outputs": [
    {
     "data": {
      "text/plain": [
       "4.5"
      ]
     },
     "execution_count": 41,
     "metadata": {},
     "output_type": "execute_result"
    }
   ],
   "source": [
    "np.median(arr3)"
   ]
  },
  {
   "cell_type": "code",
   "execution_count": 42,
   "id": "45a80c0b-369a-445c-9fef-9523a505d4b1",
   "metadata": {},
   "outputs": [
    {
     "ename": "AttributeError",
     "evalue": "module 'numpy' has no attribute 'mode'",
     "output_type": "error",
     "traceback": [
      "\u001b[1;31m---------------------------------------------------------------------------\u001b[0m",
      "\u001b[1;31mAttributeError\u001b[0m                            Traceback (most recent call last)",
      "Cell \u001b[1;32mIn[42], line 1\u001b[0m\n\u001b[1;32m----> 1\u001b[0m np\u001b[38;5;241m.\u001b[39mmode(arr3)\n",
      "File \u001b[1;32m~\\anaconda2\\Lib\\site-packages\\numpy\\__init__.py:333\u001b[0m, in \u001b[0;36m__getattr__\u001b[1;34m(attr)\u001b[0m\n\u001b[0;32m    330\u001b[0m     \u001b[38;5;124m\"\u001b[39m\u001b[38;5;124mRemoved in NumPy 1.25.0\u001b[39m\u001b[38;5;124m\"\u001b[39m\n\u001b[0;32m    331\u001b[0m     \u001b[38;5;28;01mraise\u001b[39;00m \u001b[38;5;167;01mRuntimeError\u001b[39;00m(\u001b[38;5;124m\"\u001b[39m\u001b[38;5;124mTester was removed in NumPy 1.25.\u001b[39m\u001b[38;5;124m\"\u001b[39m)\n\u001b[1;32m--> 333\u001b[0m \u001b[38;5;28;01mraise\u001b[39;00m \u001b[38;5;167;01mAttributeError\u001b[39;00m(\u001b[38;5;124m\"\u001b[39m\u001b[38;5;124mmodule \u001b[39m\u001b[38;5;132;01m{!r}\u001b[39;00m\u001b[38;5;124m has no attribute \u001b[39m\u001b[38;5;124m\"\u001b[39m\n\u001b[0;32m    334\u001b[0m                      \u001b[38;5;124m\"\u001b[39m\u001b[38;5;132;01m{!r}\u001b[39;00m\u001b[38;5;124m\"\u001b[39m\u001b[38;5;241m.\u001b[39mformat(\u001b[38;5;18m__name__\u001b[39m, attr))\n",
      "\u001b[1;31mAttributeError\u001b[0m: module 'numpy' has no attribute 'mode'"
     ]
    }
   ],
   "source": [
    "np.mode(arr3)"
   ]
  },
  {
   "cell_type": "code",
   "execution_count": 43,
   "id": "b6929582-61da-4191-a1bf-25f3a91b4fc8",
   "metadata": {},
   "outputs": [
    {
     "data": {
      "text/plain": [
       "2.8722813232690143"
      ]
     },
     "execution_count": 43,
     "metadata": {},
     "output_type": "execute_result"
    }
   ],
   "source": [
    "np.std(arr3)"
   ]
  },
  {
   "cell_type": "code",
   "execution_count": 44,
   "id": "58d5d265-725f-47db-a3f6-87b6fc84712b",
   "metadata": {},
   "outputs": [
    {
     "data": {
      "text/plain": [
       "8.25"
      ]
     },
     "execution_count": 44,
     "metadata": {},
     "output_type": "execute_result"
    }
   ],
   "source": [
    "np.var(arr3)"
   ]
  },
  {
   "cell_type": "code",
   "execution_count": 45,
   "id": "4a31b422-5feb-4646-b3d2-910669200f8c",
   "metadata": {},
   "outputs": [
    {
     "data": {
      "text/plain": [
       "0"
      ]
     },
     "execution_count": 45,
     "metadata": {},
     "output_type": "execute_result"
    }
   ],
   "source": [
    "np.prod(arr3)"
   ]
  },
  {
   "cell_type": "code",
   "execution_count": 46,
   "id": "602d6416-eca0-4517-aba3-c5b80d07a411",
   "metadata": {},
   "outputs": [
    {
     "data": {
      "text/plain": [
       "1680"
      ]
     },
     "execution_count": 46,
     "metadata": {},
     "output_type": "execute_result"
    }
   ],
   "source": [
    "np.prod(arr2)"
   ]
  },
  {
   "cell_type": "code",
   "execution_count": 47,
   "id": "8ae1b774-1992-47ae-808c-fda7d7903110",
   "metadata": {},
   "outputs": [
    {
     "data": {
      "text/plain": [
       "0"
      ]
     },
     "execution_count": 47,
     "metadata": {},
     "output_type": "execute_result"
    }
   ],
   "source": [
    "np.min(arr3)"
   ]
  },
  {
   "cell_type": "code",
   "execution_count": 48,
   "id": "0694181c-bb10-4c40-9818-ef148caa2360",
   "metadata": {},
   "outputs": [
    {
     "data": {
      "text/plain": [
       "9"
      ]
     },
     "execution_count": 48,
     "metadata": {},
     "output_type": "execute_result"
    }
   ],
   "source": [
    "np.max(arr3)"
   ]
  },
  {
   "cell_type": "code",
   "execution_count": 49,
   "id": "8230be5c-c3e4-4538-9b68-f3364ed5b76a",
   "metadata": {},
   "outputs": [],
   "source": [
    "f=arr3+0.1"
   ]
  },
  {
   "cell_type": "code",
   "execution_count": 50,
   "id": "02588935-ae85-4260-842c-f9963959d537",
   "metadata": {},
   "outputs": [
    {
     "data": {
      "text/plain": [
       "array([1.1, 2.1, 3.1, 4.1, 5.1, 6.1, 7.1, 8.1, 9.1, 0.1])"
      ]
     },
     "execution_count": 50,
     "metadata": {},
     "output_type": "execute_result"
    }
   ],
   "source": [
    "f"
   ]
  },
  {
   "cell_type": "code",
   "execution_count": 51,
   "id": "ea5bb94e-7196-40ca-a25c-7c457cc5772c",
   "metadata": {},
   "outputs": [
    {
     "data": {
      "text/plain": [
       "array([ 2.,  3.,  4.,  5.,  6.,  7.,  8.,  9., 10.,  1.])"
      ]
     },
     "execution_count": 51,
     "metadata": {},
     "output_type": "execute_result"
    }
   ],
   "source": [
    "np.ceil(f)"
   ]
  },
  {
   "cell_type": "code",
   "execution_count": 52,
   "id": "0e840190-3ca0-4fb8-b0fa-4ec1d3f3bd19",
   "metadata": {},
   "outputs": [
    {
     "data": {
      "text/plain": [
       "array([1., 2., 3., 4., 5., 6., 7., 8., 9., 0.])"
      ]
     },
     "execution_count": 52,
     "metadata": {},
     "output_type": "execute_result"
    }
   ],
   "source": [
    "np.floor(f)"
   ]
  },
  {
   "cell_type": "code",
   "execution_count": 53,
   "id": "1f7695ee-4c49-41f3-87c7-14475d8d4608",
   "metadata": {},
   "outputs": [
    {
     "data": {
      "text/plain": [
       "array([[2, 1],\n",
       "       [4, 3]])"
      ]
     },
     "execution_count": 53,
     "metadata": {},
     "output_type": "execute_result"
    }
   ],
   "source": [
    "a.T"
   ]
  },
  {
   "cell_type": "code",
   "execution_count": null,
   "id": "022d78e0-7cf6-45d6-8a34-e84f9ab2f229",
   "metadata": {},
   "outputs": [],
   "source": []
  }
 ],
 "metadata": {
  "kernelspec": {
   "display_name": "Python 3 (ipykernel)",
   "language": "python",
   "name": "python3"
  },
  "language_info": {
   "codemirror_mode": {
    "name": "ipython",
    "version": 3
   },
   "file_extension": ".py",
   "mimetype": "text/x-python",
   "name": "python",
   "nbconvert_exporter": "python",
   "pygments_lexer": "ipython3",
   "version": "3.12.7"
  }
 },
 "nbformat": 4,
 "nbformat_minor": 5
}
